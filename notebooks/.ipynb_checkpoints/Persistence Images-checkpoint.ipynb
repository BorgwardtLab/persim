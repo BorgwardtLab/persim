{
 "cells": [
  {
   "cell_type": "markdown",
   "metadata": {},
   "source": [
    "# Persistence Images\n",
    "\n",
    "We will develop a Python implementation of the persistence images as detailed in https://arxiv.org/pdf/1507.06217.pdf"
   ]
  },
  {
   "cell_type": "code",
   "execution_count": 1,
   "metadata": {},
   "outputs": [],
   "source": [
    "%load_ext autoreload\n",
    "%autoreload 2"
   ]
  },
  {
   "cell_type": "markdown",
   "metadata": {},
   "source": [
    "## Generate a persistence diagram with Ripser "
   ]
  },
  {
   "cell_type": "code",
   "execution_count": 2,
   "metadata": {},
   "outputs": [],
   "source": [
    "from ripser import Rips\n",
    "import numpy as np\n",
    "from sklearn import datasets"
   ]
  },
  {
   "cell_type": "code",
   "execution_count": 52,
   "metadata": {},
   "outputs": [
    {
     "data": {
      "image/png": "[encoded data removed]",
      "text/plain": [
       "<Figure size 432x288 with 1 Axes>"
      ]
     },
     "metadata": {},
     "output_type": "display_data"
    }
   ],
   "source": [
    "data = np.concatenate([datasets.make_circles(n_samples=100)[0], \n",
    "                       10 * datasets.make_circles(n_samples=100)[0]])\n",
    "rips = Rips()\n",
    "dgm = rips.fit_transform(data)\n",
    "diagram = dgm[1]\n",
    "rips.plot(diagram)"
   ]
  },
  {
   "cell_type": "code",
   "execution_count": 55,
   "metadata": {},
   "outputs": [],
   "source": [
    "class PersImage:\n",
    "    def __init__(self, diagram):\n",
    "        self.diagram = diagram\n",
    "        self.landscape = None\n",
    "        self.is_landscape = False\n",
    "    \n",
    "    def transform(self):\n",
    "        # convert to landscape\n",
    "        # apply gaussian kernel\n",
    "        # integrate\n",
    "        # convert to image\n",
    "        pass\n",
    "    \n",
    "    def to_landscape(self, diagram=None):\n",
    "        if diagram is None:\n",
    "            diagram = np.copy(self.diagram)\n",
    "        \n",
    "        # Only do this once\n",
    "        if self.is_landscape is False:\n",
    "            diagram[:,1] -= diagram[:,0]\n",
    "            self.is_landscape = True\n",
    "            self.landscape = diagram\n",
    "            \n",
    "        return diagram"
   ]
  },
  {
   "cell_type": "code",
   "execution_count": 59,
   "metadata": {},
   "outputs": [],
   "source": [
    "pim = PersImage(diagram)\n",
    "_ = pim.to_landscape()"
   ]
  },
  {
   "cell_type": "code",
   "execution_count": 62,
   "metadata": {},
   "outputs": [
    {
     "data": {
      "image/png": "[encoded data removed]",
      "text/plain": [
       "<Figure size 432x288 with 1 Axes>"
      ]
     },
     "metadata": {},
     "output_type": "display_data"
    }
   ],
   "source": [
    "rips.plot(pim.landscape)\n",
    "rips.plot()"
   ]
  },
  {
   "cell_type": "code",
   "execution_count": null,
   "metadata": {},
   "outputs": [],
   "source": []
  },
  {
   "cell_type": "code",
   "execution_count": null,
   "metadata": {},
   "outputs": [],
   "source": []
  },
  {
   "cell_type": "code",
   "execution_count": null,
   "metadata": {},
   "outputs": [],
   "source": []
  }
 ],
 "metadata": {
  "kernelspec": {
   "display_name": "Python 3",
   "language": "python",
   "name": "python3"
  },
  "language_info": {
   "codemirror_mode": {
    "name": "ipython",
    "version": 3
   },
   "file_extension": ".py",
   "mimetype": "text/x-python",
   "name": "python",
   "nbconvert_exporter": "python",
   "pygments_lexer": "ipython3",
   "version": "3.6.4"
  }
 },
 "nbformat": 4,
 "nbformat_minor": 2
}
