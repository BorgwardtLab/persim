{
 "cells": [
  {
   "cell_type": "markdown",
   "metadata": {},
   "source": [
    "# Persistence Images\n",
    "\n",
    "We will develop a Python implementation of the persistence images as detailed in https://arxiv.org/pdf/1507.06217.pdf"
   ]
  },
  {
   "cell_type": "code",
   "execution_count": 1,
   "metadata": {},
   "outputs": [],
   "source": [
    "%load_ext autoreload\n",
    "%autoreload 2"
   ]
  },
  {
   "cell_type": "markdown",
   "metadata": {},
   "source": [
    "## Generate a persistence diagram with Ripser "
   ]
  },
  {
   "cell_type": "code",
   "execution_count": 2,
   "metadata": {},
   "outputs": [],
   "source": [
    "from itertools import product\n",
    "\n",
    "import numpy as np\n",
    "from sklearn import datasets\n",
    "from scipy.stats import multivariate_normal as mvn\n",
    "\n",
    "from ripser import Rips\n",
    "import matplotlib.pyplot as plt"
   ]
  },
  {
   "cell_type": "code",
   "execution_count": 3,
   "metadata": {},
   "outputs": [
    {
     "data": {
      "image/png": "[encoded data removed]",
      "text/plain": [
       "<Figure size 432x288 with 1 Axes>"
      ]
     },
     "metadata": {},
     "output_type": "display_data"
    }
   ],
   "source": [
    "data = np.concatenate([datasets.make_circles(n_samples=100)[0], \n",
    "                       10 * datasets.make_circles(n_samples=100)[0]])\n",
    "rips = Rips()\n",
    "dgm = rips.fit_transform(data)\n",
    "diagram = dgm[1]\n",
    "rips.plot(diagram)"
   ]
  },
  {
   "cell_type": "code",
   "execution_count": 4,
   "metadata": {},
   "outputs": [],
   "source": [
    "class PersImage:\n",
    "    def __init__(self, diagram, pixels=50*50):\n",
    "        self.diagram = diagram\n",
    "        self.landscape = None\n",
    "        self.is_landscape = False\n",
    "        \n",
    "        assert int(np.sqrt(pixels)) == np.sqrt(pixels), \"Pixels must be a square\"\n",
    "        self.pixels = pixels\n",
    "    \n",
    "    def transform(self):\n",
    "        \n",
    "        assert self.landscape is not None, \"Must generate a landscape first\"\n",
    "        \n",
    "        data = self.landscape\n",
    "        N = int(np.sqrt(self.pixels))\n",
    "        cov = 0.2\n",
    "        weighting = pim.weighting()\n",
    "\n",
    "        # Define an NxN grid over our landscape\n",
    "        maxBD = np.max(data)\n",
    "        dx = maxBD / (2 * N) \n",
    "        xs = np.linspace(0, maxBD, N) + dx\n",
    "        ys = np.linspace(0, maxBD, N) + dx\n",
    "        grid = np.array(list(product(xs, reversed(ys))))\n",
    "        \n",
    "    \n",
    "        # Define zeros\n",
    "        img = np.zeros(len(grid))\n",
    "\n",
    "        # weights for each data point\n",
    "        weights = np.apply_along_axis(weighting, 1, data) \n",
    "        \n",
    "        for i, pixel in enumerate(grid):    \n",
    "            # pixel defines bottom left corner, compute w.r.t center\n",
    "            smoothing = mvn.pdf(data, mean=pixel, cov=cov)\n",
    "            img[i] = np.dot(smoothing, weights)\n",
    "\n",
    "        img = img.reshape((N,N)).T\n",
    "        return img\n",
    "    \n",
    "    def weighting(self):\n",
    "        ''' Define a weighting function, \n",
    "                for stability results to hold, the function must be 0 at y=0.    \n",
    "        ''' \n",
    "        \n",
    "        # TODO: Implement a logistic function\n",
    "        \n",
    "        maxy = np.max(self.landscape[:,1])\n",
    "        \n",
    "        def linear(interval):\n",
    "            # linear function of y such that f(0) = 0 and f(max(y)) = N\n",
    "            b, d = interval[0], interval[1]\n",
    "            assert d >= 0, \"Should not be defined for values below y=0\"\n",
    "            return len(self.landscape[:,1]) / maxy * d\n",
    "            \n",
    "        return linear\n",
    "    \n",
    "    def kernel(self, kernel_type=\"gaussian\"):\n",
    "        \"\"\" This will return whatever kind of kernal we want to use.\n",
    "            Must have signature (ndarray size NxM, ndarray size 1xM) -> ndarray size Nx1\n",
    "        \"\"\"\n",
    "        \n",
    "        def gaussian(data, pixel):\n",
    "            cov = 0.2\n",
    "            return mvn.pdf(data, mean=pixel, cov=cov)\n",
    "        \n",
    "        return gaussian\n",
    "    \n",
    "    def to_landscape(self, diagram=None):\n",
    "        \"\"\" Convert a diagram to a landscape\n",
    "            (b,d) -> (b, d-b)\n",
    "        \"\"\"\n",
    "        \n",
    "        if diagram is None:\n",
    "            diagram = np.copy(self.diagram)\n",
    "        \n",
    "        if self.is_landscape is False:\n",
    "            diagram[:,1] -= diagram[:,0]\n",
    "            self.is_landscape = True\n",
    "            self.landscape = diagram\n",
    "            \n",
    "        return diagram\n",
    "    \n",
    "    def show(self, img):\n",
    "        \"\"\" Visualize the persistence image\n",
    "        \"\"\"\n",
    "        maxBD= np.max(self.landscape)\n",
    "        plt.imshow(img, extent=(0,maxBD,0,maxBD))"
   ]
  },
  {
   "cell_type": "code",
   "execution_count": 6,
   "metadata": {},
   "outputs": [
    {
     "data": {
      "image/png": "[encoded data removed]",
      "text/plain": [
       "<Figure size 432x288 with 1 Axes>"
      ]
     },
     "metadata": {},
     "output_type": "display_data"
    }
   ],
   "source": [
    "pim = PersImage(diagram)\n",
    "_ = pim.to_landscape()\n",
    "img = pim.transform()\n",
    "pim.show(img)\n",
    "# rips.plot(pim.landscape, diagonal=False)"
   ]
  },
  {
   "cell_type": "code",
   "execution_count": null,
   "metadata": {},
   "outputs": [],
   "source": []
  }
 ],
 "metadata": {
  "kernelspec": {
   "display_name": "Python 3",
   "language": "python",
   "name": "python3"
  },
  "language_info": {
   "codemirror_mode": {
    "name": "ipython",
    "version": 3
   },
   "file_extension": ".py",
   "mimetype": "text/x-python",
   "name": "python",
   "nbconvert_exporter": "python",
   "pygments_lexer": "ipython3",
   "version": "3.6.4"
  }
 },
 "nbformat": 4,
 "nbformat_minor": 2
}
